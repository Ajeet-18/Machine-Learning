{
  "nbformat": 4,
  "nbformat_minor": 0,
  "metadata": {
    "colab": {
      "provenance": [],
      "authorship_tag": "ABX9TyMt3J5ccL7MBmCePiTLsJ/o",
      "include_colab_link": true
    },
    "kernelspec": {
      "name": "python3",
      "display_name": "Python 3"
    },
    "language_info": {
      "name": "python"
    }
  },
  "cells": [
    {
      "cell_type": "markdown",
      "metadata": {
        "id": "view-in-github",
        "colab_type": "text"
      },
      "source": [
        "<a href=\"https://colab.research.google.com/github/Ajeet-18/Machine-Learning/blob/main/Data2.ipynb\" target=\"_parent\"><img src=\"https://colab.research.google.com/assets/colab-badge.svg\" alt=\"Open In Colab\"/></a>"
      ]
    },
    {
      "cell_type": "code",
      "source": [
        "import pandas as pd"
      ],
      "metadata": {
        "id": "oUjbfDtBlzX7"
      },
      "execution_count": 1,
      "outputs": []
    },
    {
      "cell_type": "code",
      "source": [
        "import numpy as np"
      ],
      "metadata": {
        "id": "ZRJ_rq-al2ZJ"
      },
      "execution_count": 2,
      "outputs": []
    },
    {
      "cell_type": "code",
      "source": [
        "from matplotlib import pyplot as plt"
      ],
      "metadata": {
        "id": "HRy_LLsvl6ET"
      },
      "execution_count": 3,
      "outputs": []
    },
    {
      "cell_type": "code",
      "source": [
        "from sklearn.linear_model import LinearRegression"
      ],
      "metadata": {
        "id": "TDYajcELCVPf"
      },
      "execution_count": 21,
      "outputs": []
    },
    {
      "cell_type": "code",
      "source": [
        "from sklearn.linear_model import LinearRegression"
      ],
      "metadata": {
        "id": "T385EHOwl8mG"
      },
      "execution_count": 4,
      "outputs": []
    },
    {
      "cell_type": "code",
      "source": [
        "from sklearn.metrics import mean_absolute_error, mean_squared_error, r2_score"
      ],
      "metadata": {
        "id": "-WaVo4K3wgdU"
      },
      "execution_count": 24,
      "outputs": []
    },
    {
      "cell_type": "code",
      "source": [
        "import plotly.express as px"
      ],
      "metadata": {
        "id": "MXVooPf0l-jJ"
      },
      "execution_count": 25,
      "outputs": []
    },
    {
      "cell_type": "code",
      "source": [
        "# Read data from a CSV file named \"Data2.csv\" into a Pandas DataFrame\n",
        "df = pd.read_csv(\"Data2.csv\")"
      ],
      "metadata": {
        "id": "7UZsW0COxf4d"
      },
      "execution_count": 26,
      "outputs": []
    },
    {
      "cell_type": "code",
      "source": [
        "df"
      ],
      "metadata": {
        "colab": {
          "base_uri": "https://localhost:8080/",
          "height": 423
        },
        "id": "N6_HwdcgxlJp",
        "outputId": "aa72c53d-a8f9-4a29-c7ef-d23081001e1f"
      },
      "execution_count": 10,
      "outputs": [
        {
          "output_type": "execute_result",
          "data": {
            "text/plain": [
              "       x             y\n",
              "0    0.1  5.764952e+01\n",
              "1    0.2  4.740870e+01\n",
              "2    0.3  6.946902e+01\n",
              "3    0.4  3.755086e+01\n",
              "4    0.5  7.860685e+01\n",
              "..   ...           ...\n",
              "95   9.6  3.636073e+05\n",
              "96   9.7  8.819300e+05\n",
              "97   9.8  1.053557e+06\n",
              "98   9.9  4.503040e+05\n",
              "99  10.0  1.311153e+06\n",
              "\n",
              "[100 rows x 2 columns]"
            ],
            "text/html": [
              "\n",
              "  <div id=\"df-872856df-80dc-4bf2-8547-51b311924c28\" class=\"colab-df-container\">\n",
              "    <div>\n",
              "<style scoped>\n",
              "    .dataframe tbody tr th:only-of-type {\n",
              "        vertical-align: middle;\n",
              "    }\n",
              "\n",
              "    .dataframe tbody tr th {\n",
              "        vertical-align: top;\n",
              "    }\n",
              "\n",
              "    .dataframe thead th {\n",
              "        text-align: right;\n",
              "    }\n",
              "</style>\n",
              "<table border=\"1\" class=\"dataframe\">\n",
              "  <thead>\n",
              "    <tr style=\"text-align: right;\">\n",
              "      <th></th>\n",
              "      <th>x</th>\n",
              "      <th>y</th>\n",
              "    </tr>\n",
              "  </thead>\n",
              "  <tbody>\n",
              "    <tr>\n",
              "      <th>0</th>\n",
              "      <td>0.1</td>\n",
              "      <td>5.764952e+01</td>\n",
              "    </tr>\n",
              "    <tr>\n",
              "      <th>1</th>\n",
              "      <td>0.2</td>\n",
              "      <td>4.740870e+01</td>\n",
              "    </tr>\n",
              "    <tr>\n",
              "      <th>2</th>\n",
              "      <td>0.3</td>\n",
              "      <td>6.946902e+01</td>\n",
              "    </tr>\n",
              "    <tr>\n",
              "      <th>3</th>\n",
              "      <td>0.4</td>\n",
              "      <td>3.755086e+01</td>\n",
              "    </tr>\n",
              "    <tr>\n",
              "      <th>4</th>\n",
              "      <td>0.5</td>\n",
              "      <td>7.860685e+01</td>\n",
              "    </tr>\n",
              "    <tr>\n",
              "      <th>...</th>\n",
              "      <td>...</td>\n",
              "      <td>...</td>\n",
              "    </tr>\n",
              "    <tr>\n",
              "      <th>95</th>\n",
              "      <td>9.6</td>\n",
              "      <td>3.636073e+05</td>\n",
              "    </tr>\n",
              "    <tr>\n",
              "      <th>96</th>\n",
              "      <td>9.7</td>\n",
              "      <td>8.819300e+05</td>\n",
              "    </tr>\n",
              "    <tr>\n",
              "      <th>97</th>\n",
              "      <td>9.8</td>\n",
              "      <td>1.053557e+06</td>\n",
              "    </tr>\n",
              "    <tr>\n",
              "      <th>98</th>\n",
              "      <td>9.9</td>\n",
              "      <td>4.503040e+05</td>\n",
              "    </tr>\n",
              "    <tr>\n",
              "      <th>99</th>\n",
              "      <td>10.0</td>\n",
              "      <td>1.311153e+06</td>\n",
              "    </tr>\n",
              "  </tbody>\n",
              "</table>\n",
              "<p>100 rows × 2 columns</p>\n",
              "</div>\n",
              "    <div class=\"colab-df-buttons\">\n",
              "\n",
              "  <div class=\"colab-df-container\">\n",
              "    <button class=\"colab-df-convert\" onclick=\"convertToInteractive('df-872856df-80dc-4bf2-8547-51b311924c28')\"\n",
              "            title=\"Convert this dataframe to an interactive table.\"\n",
              "            style=\"display:none;\">\n",
              "\n",
              "  <svg xmlns=\"http://www.w3.org/2000/svg\" height=\"24px\" viewBox=\"0 -960 960 960\">\n",
              "    <path d=\"M120-120v-720h720v720H120Zm60-500h600v-160H180v160Zm220 220h160v-160H400v160Zm0 220h160v-160H400v160ZM180-400h160v-160H180v160Zm440 0h160v-160H620v160ZM180-180h160v-160H180v160Zm440 0h160v-160H620v160Z\"/>\n",
              "  </svg>\n",
              "    </button>\n",
              "\n",
              "  <style>\n",
              "    .colab-df-container {\n",
              "      display:flex;\n",
              "      gap: 12px;\n",
              "    }\n",
              "\n",
              "    .colab-df-convert {\n",
              "      background-color: #E8F0FE;\n",
              "      border: none;\n",
              "      border-radius: 50%;\n",
              "      cursor: pointer;\n",
              "      display: none;\n",
              "      fill: #1967D2;\n",
              "      height: 32px;\n",
              "      padding: 0 0 0 0;\n",
              "      width: 32px;\n",
              "    }\n",
              "\n",
              "    .colab-df-convert:hover {\n",
              "      background-color: #E2EBFA;\n",
              "      box-shadow: 0px 1px 2px rgba(60, 64, 67, 0.3), 0px 1px 3px 1px rgba(60, 64, 67, 0.15);\n",
              "      fill: #174EA6;\n",
              "    }\n",
              "\n",
              "    .colab-df-buttons div {\n",
              "      margin-bottom: 4px;\n",
              "    }\n",
              "\n",
              "    [theme=dark] .colab-df-convert {\n",
              "      background-color: #3B4455;\n",
              "      fill: #D2E3FC;\n",
              "    }\n",
              "\n",
              "    [theme=dark] .colab-df-convert:hover {\n",
              "      background-color: #434B5C;\n",
              "      box-shadow: 0px 1px 3px 1px rgba(0, 0, 0, 0.15);\n",
              "      filter: drop-shadow(0px 1px 2px rgba(0, 0, 0, 0.3));\n",
              "      fill: #FFFFFF;\n",
              "    }\n",
              "  </style>\n",
              "\n",
              "    <script>\n",
              "      const buttonEl =\n",
              "        document.querySelector('#df-872856df-80dc-4bf2-8547-51b311924c28 button.colab-df-convert');\n",
              "      buttonEl.style.display =\n",
              "        google.colab.kernel.accessAllowed ? 'block' : 'none';\n",
              "\n",
              "      async function convertToInteractive(key) {\n",
              "        const element = document.querySelector('#df-872856df-80dc-4bf2-8547-51b311924c28');\n",
              "        const dataTable =\n",
              "          await google.colab.kernel.invokeFunction('convertToInteractive',\n",
              "                                                    [key], {});\n",
              "        if (!dataTable) return;\n",
              "\n",
              "        const docLinkHtml = 'Like what you see? Visit the ' +\n",
              "          '<a target=\"_blank\" href=https://colab.research.google.com/notebooks/data_table.ipynb>data table notebook</a>'\n",
              "          + ' to learn more about interactive tables.';\n",
              "        element.innerHTML = '';\n",
              "        dataTable['output_type'] = 'display_data';\n",
              "        await google.colab.output.renderOutput(dataTable, element);\n",
              "        const docLink = document.createElement('div');\n",
              "        docLink.innerHTML = docLinkHtml;\n",
              "        element.appendChild(docLink);\n",
              "      }\n",
              "    </script>\n",
              "  </div>\n",
              "\n",
              "\n",
              "<div id=\"df-b1774342-5961-4834-ac7f-a281984440eb\">\n",
              "  <button class=\"colab-df-quickchart\" onclick=\"quickchart('df-b1774342-5961-4834-ac7f-a281984440eb')\"\n",
              "            title=\"Suggest charts\"\n",
              "            style=\"display:none;\">\n",
              "\n",
              "<svg xmlns=\"http://www.w3.org/2000/svg\" height=\"24px\"viewBox=\"0 0 24 24\"\n",
              "     width=\"24px\">\n",
              "    <g>\n",
              "        <path d=\"M19 3H5c-1.1 0-2 .9-2 2v14c0 1.1.9 2 2 2h14c1.1 0 2-.9 2-2V5c0-1.1-.9-2-2-2zM9 17H7v-7h2v7zm4 0h-2V7h2v10zm4 0h-2v-4h2v4z\"/>\n",
              "    </g>\n",
              "</svg>\n",
              "  </button>\n",
              "\n",
              "<style>\n",
              "  .colab-df-quickchart {\n",
              "      --bg-color: #E8F0FE;\n",
              "      --fill-color: #1967D2;\n",
              "      --hover-bg-color: #E2EBFA;\n",
              "      --hover-fill-color: #174EA6;\n",
              "      --disabled-fill-color: #AAA;\n",
              "      --disabled-bg-color: #DDD;\n",
              "  }\n",
              "\n",
              "  [theme=dark] .colab-df-quickchart {\n",
              "      --bg-color: #3B4455;\n",
              "      --fill-color: #D2E3FC;\n",
              "      --hover-bg-color: #434B5C;\n",
              "      --hover-fill-color: #FFFFFF;\n",
              "      --disabled-bg-color: #3B4455;\n",
              "      --disabled-fill-color: #666;\n",
              "  }\n",
              "\n",
              "  .colab-df-quickchart {\n",
              "    background-color: var(--bg-color);\n",
              "    border: none;\n",
              "    border-radius: 50%;\n",
              "    cursor: pointer;\n",
              "    display: none;\n",
              "    fill: var(--fill-color);\n",
              "    height: 32px;\n",
              "    padding: 0;\n",
              "    width: 32px;\n",
              "  }\n",
              "\n",
              "  .colab-df-quickchart:hover {\n",
              "    background-color: var(--hover-bg-color);\n",
              "    box-shadow: 0 1px 2px rgba(60, 64, 67, 0.3), 0 1px 3px 1px rgba(60, 64, 67, 0.15);\n",
              "    fill: var(--button-hover-fill-color);\n",
              "  }\n",
              "\n",
              "  .colab-df-quickchart-complete:disabled,\n",
              "  .colab-df-quickchart-complete:disabled:hover {\n",
              "    background-color: var(--disabled-bg-color);\n",
              "    fill: var(--disabled-fill-color);\n",
              "    box-shadow: none;\n",
              "  }\n",
              "\n",
              "  .colab-df-spinner {\n",
              "    border: 2px solid var(--fill-color);\n",
              "    border-color: transparent;\n",
              "    border-bottom-color: var(--fill-color);\n",
              "    animation:\n",
              "      spin 1s steps(1) infinite;\n",
              "  }\n",
              "\n",
              "  @keyframes spin {\n",
              "    0% {\n",
              "      border-color: transparent;\n",
              "      border-bottom-color: var(--fill-color);\n",
              "      border-left-color: var(--fill-color);\n",
              "    }\n",
              "    20% {\n",
              "      border-color: transparent;\n",
              "      border-left-color: var(--fill-color);\n",
              "      border-top-color: var(--fill-color);\n",
              "    }\n",
              "    30% {\n",
              "      border-color: transparent;\n",
              "      border-left-color: var(--fill-color);\n",
              "      border-top-color: var(--fill-color);\n",
              "      border-right-color: var(--fill-color);\n",
              "    }\n",
              "    40% {\n",
              "      border-color: transparent;\n",
              "      border-right-color: var(--fill-color);\n",
              "      border-top-color: var(--fill-color);\n",
              "    }\n",
              "    60% {\n",
              "      border-color: transparent;\n",
              "      border-right-color: var(--fill-color);\n",
              "    }\n",
              "    80% {\n",
              "      border-color: transparent;\n",
              "      border-right-color: var(--fill-color);\n",
              "      border-bottom-color: var(--fill-color);\n",
              "    }\n",
              "    90% {\n",
              "      border-color: transparent;\n",
              "      border-bottom-color: var(--fill-color);\n",
              "    }\n",
              "  }\n",
              "</style>\n",
              "\n",
              "  <script>\n",
              "    async function quickchart(key) {\n",
              "      const quickchartButtonEl =\n",
              "        document.querySelector('#' + key + ' button');\n",
              "      quickchartButtonEl.disabled = true;  // To prevent multiple clicks.\n",
              "      quickchartButtonEl.classList.add('colab-df-spinner');\n",
              "      try {\n",
              "        const charts = await google.colab.kernel.invokeFunction(\n",
              "            'suggestCharts', [key], {});\n",
              "      } catch (error) {\n",
              "        console.error('Error during call to suggestCharts:', error);\n",
              "      }\n",
              "      quickchartButtonEl.classList.remove('colab-df-spinner');\n",
              "      quickchartButtonEl.classList.add('colab-df-quickchart-complete');\n",
              "    }\n",
              "    (() => {\n",
              "      let quickchartButtonEl =\n",
              "        document.querySelector('#df-b1774342-5961-4834-ac7f-a281984440eb button');\n",
              "      quickchartButtonEl.style.display =\n",
              "        google.colab.kernel.accessAllowed ? 'block' : 'none';\n",
              "    })();\n",
              "  </script>\n",
              "</div>\n",
              "\n",
              "  <div id=\"id_7e461279-8046-44b9-8f58-8d764c3476f8\">\n",
              "    <style>\n",
              "      .colab-df-generate {\n",
              "        background-color: #E8F0FE;\n",
              "        border: none;\n",
              "        border-radius: 50%;\n",
              "        cursor: pointer;\n",
              "        display: none;\n",
              "        fill: #1967D2;\n",
              "        height: 32px;\n",
              "        padding: 0 0 0 0;\n",
              "        width: 32px;\n",
              "      }\n",
              "\n",
              "      .colab-df-generate:hover {\n",
              "        background-color: #E2EBFA;\n",
              "        box-shadow: 0px 1px 2px rgba(60, 64, 67, 0.3), 0px 1px 3px 1px rgba(60, 64, 67, 0.15);\n",
              "        fill: #174EA6;\n",
              "      }\n",
              "\n",
              "      [theme=dark] .colab-df-generate {\n",
              "        background-color: #3B4455;\n",
              "        fill: #D2E3FC;\n",
              "      }\n",
              "\n",
              "      [theme=dark] .colab-df-generate:hover {\n",
              "        background-color: #434B5C;\n",
              "        box-shadow: 0px 1px 3px 1px rgba(0, 0, 0, 0.15);\n",
              "        filter: drop-shadow(0px 1px 2px rgba(0, 0, 0, 0.3));\n",
              "        fill: #FFFFFF;\n",
              "      }\n",
              "    </style>\n",
              "    <button class=\"colab-df-generate\" onclick=\"generateWithVariable('df')\"\n",
              "            title=\"Generate code using this dataframe.\"\n",
              "            style=\"display:none;\">\n",
              "\n",
              "  <svg xmlns=\"http://www.w3.org/2000/svg\" height=\"24px\"viewBox=\"0 0 24 24\"\n",
              "       width=\"24px\">\n",
              "    <path d=\"M7,19H8.4L18.45,9,17,7.55,7,17.6ZM5,21V16.75L18.45,3.32a2,2,0,0,1,2.83,0l1.4,1.43a1.91,1.91,0,0,1,.58,1.4,1.91,1.91,0,0,1-.58,1.4L9.25,21ZM18.45,9,17,7.55Zm-12,3A5.31,5.31,0,0,0,4.9,8.1,5.31,5.31,0,0,0,1,6.5,5.31,5.31,0,0,0,4.9,4.9,5.31,5.31,0,0,0,6.5,1,5.31,5.31,0,0,0,8.1,4.9,5.31,5.31,0,0,0,12,6.5,5.46,5.46,0,0,0,6.5,12Z\"/>\n",
              "  </svg>\n",
              "    </button>\n",
              "    <script>\n",
              "      (() => {\n",
              "      const buttonEl =\n",
              "        document.querySelector('#id_7e461279-8046-44b9-8f58-8d764c3476f8 button.colab-df-generate');\n",
              "      buttonEl.style.display =\n",
              "        google.colab.kernel.accessAllowed ? 'block' : 'none';\n",
              "\n",
              "      buttonEl.onclick = () => {\n",
              "        google.colab.notebook.generateWithVariable('df');\n",
              "      }\n",
              "      })();\n",
              "    </script>\n",
              "  </div>\n",
              "\n",
              "    </div>\n",
              "  </div>\n"
            ]
          },
          "metadata": {},
          "execution_count": 10
        }
      ]
    },
    {
      "cell_type": "code",
      "source": [
        "# Extract the 'x' and 'y' columns from the DataFrame and convert them to lists\n",
        "X = [float(item) for item in list(df['x'])]\n",
        "Y = [float(item) for item in list(df['y'])]\n",
        "\n",
        "plt.scatter(X, Y, s=5)\n",
        "plt.show()"
      ],
      "metadata": {
        "colab": {
          "base_uri": "https://localhost:8080/",
          "height": 445
        },
        "id": "5bZr6MFGV2jC",
        "outputId": "95c59429-4ce7-4e37-f158-ba1aa1014f82"
      },
      "execution_count": 9,
      "outputs": [
        {
          "output_type": "display_data",
          "data": {
            "text/plain": [
              "<Figure size 640x480 with 1 Axes>"
            ],
            "image/png": "[encoded data removed]"
          },
          "metadata": {}
        }
      ]
    },
    {
      "cell_type": "code",
      "source": [
        "# Calculate the natural logarithm of each element in the 'Y' list and store them in a new list 'L'\n",
        "L = []\n",
        "for i in Y:\n",
        "    log_value = np.log(i)  # Calculate the natural logarithm (log base e) of each 'Y' value\n",
        "    L.append(log_value)\n",
        "\n",
        "# Scatter plot of 'X' against 'L' using Matplotlib\n",
        "plt.scatter(X, L, s=5)\n",
        "\n",
        "# Display the plot\n",
        "plt.show()"
      ],
      "metadata": {
        "colab": {
          "base_uri": "https://localhost:8080/",
          "height": 430
        },
        "id": "HLg1fCoHV7KH",
        "outputId": "4a9f5710-8386-4647-8e5f-3ce87bcb5417"
      },
      "execution_count": 11,
      "outputs": [
        {
          "output_type": "display_data",
          "data": {
            "text/plain": [
              "<Figure size 640x480 with 1 Axes>"
            ],
            "image/png": "[encoded data removed]"
          },
          "metadata": {}
        }
      ]
    },
    {
      "cell_type": "code",
      "source": [
        "# Initialize lists to store the results of calculations\n",
        "XL = []\n",
        "X_square = []\n",
        "\n",
        "# Loop through the first 100 elements of X and L\n",
        "for i in range(100):\n",
        "    # Calculate the product of X[i] and L[i] and append it to XL\n",
        "    product = X[i] * L[i]\n",
        "    XL.append(product)\n",
        "\n",
        "    # Calculate the square of X[i] and append it to X_square\n",
        "    square = X[i] ** 2\n",
        "    X_square.append(square)\n",
        "\n",
        "# Calculate the averages of XL, X, L, and X_square\n",
        "average_XL = np.mean(XL)\n",
        "average_X = np.mean(X)\n",
        "average_L = np.mean(L)\n",
        "average_X_square = np.mean(X_square)\n",
        "\n",
        "# Display the calculated averages\n",
        "print(\"Average of XL:\", average_XL)\n",
        "print(\"Average of X:\", average_X)\n",
        "print(\"Average of L:\", average_L)\n",
        "print(\"Average of X_square:\", average_X_square)"
      ],
      "metadata": {
        "id": "U_zL7YTgV90V",
        "colab": {
          "base_uri": "https://localhost:8080/"
        },
        "outputId": "d1777a77-f057-46b1-ac16-7560f917cde7"
      },
      "execution_count": 12,
      "outputs": [
        {
          "output_type": "stream",
          "name": "stdout",
          "text": [
            "Average of XL: 51.51608824799193\n",
            "Average of X: 5.05\n",
            "Average of L: 8.59575979811577\n",
            "Average of X_square: 33.83500000000001\n"
          ]
        }
      ]
    },
    {
      "cell_type": "code",
      "source": [
        "# Calculate the coefficients for the linear regression model\n",
        "beta = (average_XL - average_X * average_L) / (average_X_square - average_X ** 2)  # It is the value of slope (m)\n",
        "\n",
        "# Calculate the intercept (alpha) after transforming log_alpha back to the original scale\n",
        "log_alpha = (average_L - beta * average_X)\n",
        "alpha = np.exp(log_alpha)  # It is the value of the intercept\n",
        "\n",
        "# Display the calculated coefficients\n",
        "print(\"Value of slope (beta):\", beta)\n",
        "print(\"Value of intercept (alpha):\", alpha)"
      ],
      "metadata": {
        "colab": {
          "base_uri": "https://localhost:8080/"
        },
        "id": "AEspbwu-WCCo",
        "outputId": "4f9a11d2-c73c-451e-a755-e922fba8b6c6"
      },
      "execution_count": 13,
      "outputs": [
        {
          "output_type": "stream",
          "name": "stdout",
          "text": [
            "Value of slope (beta): 0.9729974518460589\n",
            "Value of intercept (alpha): 39.7306395177676\n"
          ]
        }
      ]
    },
    {
      "cell_type": "code",
      "source": [
        "# Initialize a list to store the predicted Y values\n",
        "predicted_Y = []\n",
        "\n",
        "# Loop through the first 100 elements of X to predict corresponding Y values using the exponential regression model\n",
        "for i in range(100):\n",
        "    # Calculate the predicted Y using the exponential regression model\n",
        "    prediction = alpha * np.exp(beta * X[i])\n",
        "    predicted_Y.append(prediction)\n",
        "\n",
        "# Plotting the graph; Given data set is scattered, but the predicted dataset is represented as a line.\n",
        "plt.scatter(X, Y, s=0.4, label='Actual Data')  # Scatter plot for the actual data points\n",
        "plt.plot(X, predicted_Y, label='Exponential Regression Line', color='red')  # Line plot for the predicted values\n",
        "\n",
        "# Adding labels and legend\n",
        "plt.xlabel('X')\n",
        "plt.ylabel('Y')\n",
        "plt.legend()\n",
        "\n",
        "# Display the plot\n",
        "plt.show()"
      ],
      "metadata": {
        "colab": {
          "base_uri": "https://localhost:8080/",
          "height": 465
        },
        "id": "wzflFycoWEbg",
        "outputId": "31c9e7fa-6392-4291-e1bc-51b44d38d2f4"
      },
      "execution_count": 14,
      "outputs": [
        {
          "output_type": "display_data",
          "data": {
            "text/plain": [
              "<Figure size 640x480 with 1 Axes>"
            ],
            "image/png": "[encoded data removed]"
          },
          "metadata": {}
        }
      ]
    },
    {
      "cell_type": "code",
      "source": [
        "# Initialize a list to store the predicted Y values\n",
        "predicted_Y = []\n",
        "\n",
        "# Loop through the first 100 elements of X to predict corresponding Y values using the linear regression model\n",
        "for i in range(100):\n",
        "    # Calculate the predicted Y using the linear regression model after transforming back from the log scale\n",
        "    y = np.log(alpha) + beta * X[i]\n",
        "    predicted_Y.append(y)\n",
        "\n",
        "# Plotting the graph; Given data set is scattered, but the predicted dataset is represented as a line.\n",
        "plt.scatter(X, L, s=0.4, label='Actual Data (log-transformed)')  # Scatter plot for the actual log-transformed data points\n",
        "plt.plot(X, predicted_Y, label='Linear Regression Line', color='red')  # Line plot for the predicted values on the original scale\n",
        "\n",
        "# Adding labels and legend\n",
        "plt.xlabel('X')\n",
        "plt.ylabel('log(Y)')\n",
        "plt.legend()\n",
        "\n",
        "# Display the plot\n",
        "plt.show()"
      ],
      "metadata": {
        "colab": {
          "base_uri": "https://localhost:8080/",
          "height": 449
        },
        "id": "Q4tlZ8aYWHUj",
        "outputId": "2f562bd8-7a48-4546-ae58-5920ddd50d81"
      },
      "execution_count": 15,
      "outputs": [
        {
          "output_type": "display_data",
          "data": {
            "text/plain": [
              "<Figure size 640x480 with 1 Axes>"
            ],
            "image/png": "[encoded data removed]"
          },
          "metadata": {}
        }
      ]
    },
    {
      "cell_type": "markdown",
      "source": [
        "# Verification"
      ],
      "metadata": {
        "id": "xWJjtoWbWPEQ"
      }
    },
    {
      "cell_type": "code",
      "source": [
        "# Using linear regression from scikit-learn to fit the model\n",
        "regr = LinearRegression()\n",
        "\n",
        "# Reshape X and L arrays to a 2D array for scikit-learn\n",
        "x_array = np.array(X).reshape(-1, 1)\n",
        "y_array = np.array(L).reshape(-1, 1)\n",
        "\n",
        "# Fit the linear regression model\n",
        "regr.fit(x_array, y_array)\n",
        "\n",
        "# Display the calculated coefficients (beta) and intercept (alpha)\n",
        "print(\"Value of slope (beta):\", regr.coef_)\n",
        "alpha = np.exp(regr.intercept_)  # Transforming back from log scale\n",
        "print(\"Value of intercept (alpha):\", alpha)"
      ],
      "metadata": {
        "id": "OYcStdCbWPqP",
        "colab": {
          "base_uri": "https://localhost:8080/"
        },
        "outputId": "688a435a-2f7b-4987-db8f-6fd5640d5063"
      },
      "execution_count": 16,
      "outputs": [
        {
          "output_type": "stream",
          "name": "stdout",
          "text": [
            "Value of slope (beta): [[0.97299745]]\n",
            "Value of intercept (alpha): [39.73063952]\n"
          ]
        }
      ]
    },
    {
      "cell_type": "code",
      "source": [
        "# Predicting the values using the trained linear regression model\n",
        "y_pred_array = regr.predict(x_array)\n",
        "y_pred_list = list(y_pred_array.reshape(1, -1)[0])\n",
        "\n",
        "# Plotting the graph; Given data set is scattered, but the predicted dataset is represented as a line.\n",
        "plt.scatter(X, L, s=0.4, color='blue', label='Original Data')  # Scatter plot for the original log-transformed data points\n",
        "plt.plot(X, y_pred_list, color='red', label='Linear Regression Fit')  # Line plot for the predicted values\n",
        "\n",
        "# Adding labels and legend\n",
        "plt.xlabel('X')\n",
        "plt.ylabel('Log base e [Y]')\n",
        "plt.legend()\n",
        "\n",
        "# Display the plot\n",
        "plt.show()"
      ],
      "metadata": {
        "id": "6Me5qSJ1WSRU",
        "colab": {
          "base_uri": "https://localhost:8080/",
          "height": 449
        },
        "outputId": "25ee8251-9e41-4f90-e8e2-546c538f1bfa"
      },
      "execution_count": 17,
      "outputs": [
        {
          "output_type": "display_data",
          "data": {
            "text/plain": [
              "<Figure size 640x480 with 1 Axes>"
            ],
            "image/png": "[encoded data removed]"
          },
          "metadata": {}
        }
      ]
    },
    {
      "cell_type": "code",
      "source": [
        "# Calculate error metrics between the predictions by the scikit-learn regression model and the given data\n",
        "mae = mean_absolute_error(y_true=y_array, y_pred=y_pred_array)\n",
        "mse = mean_squared_error(y_true=y_array, y_pred=y_pred_array)\n",
        "rmse = np.sqrt(mse)  # Calculate RMSE as the square root of MSE\n",
        "r_square = r2_score(y_array, y_pred_array)\n",
        "\n",
        "# Display the calculated error metrics\n",
        "print(\"Mean Absolute Error (MAE):\", mae)\n",
        "print(\"Mean Squared Error (MSE):\", mse)\n",
        "print(\"Root Mean Squared Error (RMSE):\", rmse)\n",
        "print(\"R-Squared (r_square):\", r_square)\n",
        "\n",
        "# Comment: The code calculates various error metrics (MAE, MSE, RMSE, and R-Squared) between the predictions\n",
        "# by the scikit-learn regression model and the given data. The results are then printed for analysis."
      ],
      "metadata": {
        "id": "hl-jYvIEWUoV",
        "colab": {
          "base_uri": "https://localhost:8080/"
        },
        "outputId": "81a9a7cd-62d2-44d1-88c6-cd59c3331b8e"
      },
      "execution_count": 18,
      "outputs": [
        {
          "output_type": "stream",
          "name": "stdout",
          "text": [
            "Mean Absolute Error (MAE): 0.23498835289025738\n",
            "Mean Squared Error (MSE): 0.07643342704351966\n",
            "Root Mean Squared Error (RMSE): 0.27646596000867746\n",
            "R-Squared (r_square): 0.9904038522690993\n"
          ]
        }
      ]
    },
    {
      "cell_type": "code",
      "source": [
        "# Calculate error metrics between the predictions by the custom regression model and the given data\n",
        "mae = mean_absolute_error(y_true=y_array, y_pred=predicted_Y)\n",
        "mse = mean_squared_error(y_true=y_array, y_pred=predicted_Y)\n",
        "rmse = np.sqrt(mse)  # Calculate RMSE as the square root of MSE\n",
        "r_square = r2_score(y_array, predicted_Y)\n",
        "\n",
        "# Display the calculated error metrics\n",
        "print(\"Mean Absolute Error (MAE):\", mae)\n",
        "print(\"Mean Squared Error (MSE):\", mse)\n",
        "print(\"Root Mean Squared Error (RMSE):\", rmse)\n",
        "print(\"R-Squared (r_square):\", r_square)\n",
        "\n",
        "# Comment: The code calculates various error metrics (MAE, MSE, RMSE, and R-Squared) between the predictions\n",
        "# by the custom regression model and the given data. The results are then printed for analysis."
      ],
      "metadata": {
        "colab": {
          "base_uri": "https://localhost:8080/"
        },
        "id": "AT1iCjQYoGZG",
        "outputId": "4f7a5617-adb6-45d3-8ab7-a8b97e392768"
      },
      "execution_count": 19,
      "outputs": [
        {
          "output_type": "stream",
          "name": "stdout",
          "text": [
            "Mean Absolute Error (MAE): 0.2349883528902577\n",
            "Mean Squared Error (MSE): 0.07643342704351971\n",
            "Root Mean Squared Error (RMSE): 0.27646596000867757\n",
            "R-Squared (r_square): 0.9904038522690993\n"
          ]
        }
      ]
    }
  ]
}