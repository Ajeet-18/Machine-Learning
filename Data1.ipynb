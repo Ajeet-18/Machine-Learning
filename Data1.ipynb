{
  "nbformat": 4,
  "nbformat_minor": 0,
  "metadata": {
    "colab": {
      "provenance": [],
      "authorship_tag": "ABX9TyMduE46rPW3q6aFsouQy7/h",
      "include_colab_link": true
    },
    "kernelspec": {
      "name": "python3",
      "display_name": "Python 3"
    },
    "language_info": {
      "name": "python"
    }
  },
  "cells": [
    {
      "cell_type": "markdown",
      "metadata": {
        "id": "view-in-github",
        "colab_type": "text"
      },
      "source": [
        "<a href=\"https://colab.research.google.com/github/Ajeet-18/Machine-Learning/blob/main/Data1.ipynb\" target=\"_parent\"><img src=\"https://colab.research.google.com/assets/colab-badge.svg\" alt=\"Open In Colab\"/></a>"
      ]
    },
    {
      "cell_type": "markdown",
      "source": [
        "Write a Python code to implement Linear Regression for multi-dimensional input and one-dimensional output using Matrix Inverse."
      ],
      "metadata": {
        "id": "N--DxJNeU_VD"
      }
    },
    {
      "cell_type": "code",
      "source": [
        "import pandas as pd"
      ],
      "metadata": {
        "id": "vxWyeqFSNqc6"
      },
      "execution_count": null,
      "outputs": []
    },
    {
      "cell_type": "code",
      "source": [
        "import numpy as np"
      ],
      "metadata": {
        "id": "7JKZ1g37NuOP"
      },
      "execution_count": null,
      "outputs": []
    },
    {
      "cell_type": "code",
      "source": [
        "from matplotlib import pyplot as pl"
      ],
      "metadata": {
        "id": "OCSDhB3WNwiJ"
      },
      "execution_count": null,
      "outputs": []
    },
    {
      "cell_type": "code",
      "source": [
        "from sklearn.linear_model import LinearRegression"
      ],
      "metadata": {
        "id": "6WKruROFNy9j"
      },
      "execution_count": null,
      "outputs": []
    },
    {
      "cell_type": "code",
      "source": [
        "import plotly.express as px"
      ],
      "metadata": {
        "id": "IQBLiT40N5_O"
      },
      "execution_count": null,
      "outputs": []
    },
    {
      "cell_type": "code",
      "source": [
        "df = pd.read_csv('Data1.csv')"
      ],
      "metadata": {
        "id": "_BfFCQMPuils"
      },
      "execution_count": null,
      "outputs": []
    },
    {
      "cell_type": "code",
      "execution_count": null,
      "metadata": {
        "colab": {
          "base_uri": "https://localhost:8080/",
          "height": 423
        },
        "id": "BFq8XQzFo-g_",
        "outputId": "2c37b1da-bf6f-4f64-dff6-6aeb69fa28c7"
      },
      "outputs": [
        {
          "output_type": "execute_result",
          "data": {
            "text/plain": [
              "       x          y\n",
              "0    0.1   8.298133\n",
              "1    0.2   4.919282\n",
              "2    0.3   4.145139\n",
              "3    0.4   6.850788\n",
              "4    0.5   6.375323\n",
              "..   ...        ...\n",
              "95   9.6  28.420698\n",
              "96   9.7  27.984652\n",
              "97   9.8  30.336851\n",
              "98   9.9  30.376285\n",
              "99  10.0  27.453770\n",
              "\n",
              "[100 rows x 2 columns]"
            ],
            "text/html": [
              "\n",
              "  <div id=\"df-573ec1d5-1405-4fcc-8151-0763f78435ee\" class=\"colab-df-container\">\n",
              "    <div>\n",
              "<style scoped>\n",
              "    .dataframe tbody tr th:only-of-type {\n",
              "        vertical-align: middle;\n",
              "    }\n",
              "\n",
              "    .dataframe tbody tr th {\n",
              "        vertical-align: top;\n",
              "    }\n",
              "\n",
              "    .dataframe thead th {\n",
              "        text-align: right;\n",
              "    }\n",
              "</style>\n",
              "<table border=\"1\" class=\"dataframe\">\n",
              "  <thead>\n",
              "    <tr style=\"text-align: right;\">\n",
              "      <th></th>\n",
              "      <th>x</th>\n",
              "      <th>y</th>\n",
              "    </tr>\n",
              "  </thead>\n",
              "  <tbody>\n",
              "    <tr>\n",
              "      <th>0</th>\n",
              "      <td>0.1</td>\n",
              "      <td>8.298133</td>\n",
              "    </tr>\n",
              "    <tr>\n",
              "      <th>1</th>\n",
              "      <td>0.2</td>\n",
              "      <td>4.919282</td>\n",
              "    </tr>\n",
              "    <tr>\n",
              "      <th>2</th>\n",
              "      <td>0.3</td>\n",
              "      <td>4.145139</td>\n",
              "    </tr>\n",
              "    <tr>\n",
              "      <th>3</th>\n",
              "      <td>0.4</td>\n",
              "      <td>6.850788</td>\n",
              "    </tr>\n",
              "    <tr>\n",
              "      <th>4</th>\n",
              "      <td>0.5</td>\n",
              "      <td>6.375323</td>\n",
              "    </tr>\n",
              "    <tr>\n",
              "      <th>...</th>\n",
              "      <td>...</td>\n",
              "      <td>...</td>\n",
              "    </tr>\n",
              "    <tr>\n",
              "      <th>95</th>\n",
              "      <td>9.6</td>\n",
              "      <td>28.420698</td>\n",
              "    </tr>\n",
              "    <tr>\n",
              "      <th>96</th>\n",
              "      <td>9.7</td>\n",
              "      <td>27.984652</td>\n",
              "    </tr>\n",
              "    <tr>\n",
              "      <th>97</th>\n",
              "      <td>9.8</td>\n",
              "      <td>30.336851</td>\n",
              "    </tr>\n",
              "    <tr>\n",
              "      <th>98</th>\n",
              "      <td>9.9</td>\n",
              "      <td>30.376285</td>\n",
              "    </tr>\n",
              "    <tr>\n",
              "      <th>99</th>\n",
              "      <td>10.0</td>\n",
              "      <td>27.453770</td>\n",
              "    </tr>\n",
              "  </tbody>\n",
              "</table>\n",
              "<p>100 rows × 2 columns</p>\n",
              "</div>\n",
              "    <div class=\"colab-df-buttons\">\n",
              "\n",
              "  <div class=\"colab-df-container\">\n",
              "    <button class=\"colab-df-convert\" onclick=\"convertToInteractive('df-573ec1d5-1405-4fcc-8151-0763f78435ee')\"\n",
              "            title=\"Convert this dataframe to an interactive table.\"\n",
              "            style=\"display:none;\">\n",
              "\n",
              "  <svg xmlns=\"http://www.w3.org/2000/svg\" height=\"24px\" viewBox=\"0 -960 960 960\">\n",
              "    <path d=\"M120-120v-720h720v720H120Zm60-500h600v-160H180v160Zm220 220h160v-160H400v160Zm0 220h160v-160H400v160ZM180-400h160v-160H180v160Zm440 0h160v-160H620v160ZM180-180h160v-160H180v160Zm440 0h160v-160H620v160Z\"/>\n",
              "  </svg>\n",
              "    </button>\n",
              "\n",
              "  <style>\n",
              "    .colab-df-container {\n",
              "      display:flex;\n",
              "      gap: 12px;\n",
              "    }\n",
              "\n",
              "    .colab-df-convert {\n",
              "      background-color: #E8F0FE;\n",
              "      border: none;\n",
              "      border-radius: 50%;\n",
              "      cursor: pointer;\n",
              "      display: none;\n",
              "      fill: #1967D2;\n",
              "      height: 32px;\n",
              "      padding: 0 0 0 0;\n",
              "      width: 32px;\n",
              "    }\n",
              "\n",
              "    .colab-df-convert:hover {\n",
              "      background-color: #E2EBFA;\n",
              "      box-shadow: 0px 1px 2px rgba(60, 64, 67, 0.3), 0px 1px 3px 1px rgba(60, 64, 67, 0.15);\n",
              "      fill: #174EA6;\n",
              "    }\n",
              "\n",
              "    .colab-df-buttons div {\n",
              "      margin-bottom: 4px;\n",
              "    }\n",
              "\n",
              "    [theme=dark] .colab-df-convert {\n",
              "      background-color: #3B4455;\n",
              "      fill: #D2E3FC;\n",
              "    }\n",
              "\n",
              "    [theme=dark] .colab-df-convert:hover {\n",
              "      background-color: #434B5C;\n",
              "      box-shadow: 0px 1px 3px 1px rgba(0, 0, 0, 0.15);\n",
              "      filter: drop-shadow(0px 1px 2px rgba(0, 0, 0, 0.3));\n",
              "      fill: #FFFFFF;\n",
              "    }\n",
              "  </style>\n",
              "\n",
              "    <script>\n",
              "      const buttonEl =\n",
              "        document.querySelector('#df-573ec1d5-1405-4fcc-8151-0763f78435ee button.colab-df-convert');\n",
              "      buttonEl.style.display =\n",
              "        google.colab.kernel.accessAllowed ? 'block' : 'none';\n",
              "\n",
              "      async function convertToInteractive(key) {\n",
              "        const element = document.querySelector('#df-573ec1d5-1405-4fcc-8151-0763f78435ee');\n",
              "        const dataTable =\n",
              "          await google.colab.kernel.invokeFunction('convertToInteractive',\n",
              "                                                    [key], {});\n",
              "        if (!dataTable) return;\n",
              "\n",
              "        const docLinkHtml = 'Like what you see? Visit the ' +\n",
              "          '<a target=\"_blank\" href=https://colab.research.google.com/notebooks/data_table.ipynb>data table notebook</a>'\n",
              "          + ' to learn more about interactive tables.';\n",
              "        element.innerHTML = '';\n",
              "        dataTable['output_type'] = 'display_data';\n",
              "        await google.colab.output.renderOutput(dataTable, element);\n",
              "        const docLink = document.createElement('div');\n",
              "        docLink.innerHTML = docLinkHtml;\n",
              "        element.appendChild(docLink);\n",
              "      }\n",
              "    </script>\n",
              "  </div>\n",
              "\n",
              "\n",
              "<div id=\"df-c7bb6f7c-ab64-4b85-a2af-5397f88eed72\">\n",
              "  <button class=\"colab-df-quickchart\" onclick=\"quickchart('df-c7bb6f7c-ab64-4b85-a2af-5397f88eed72')\"\n",
              "            title=\"Suggest charts\"\n",
              "            style=\"display:none;\">\n",
              "\n",
              "<svg xmlns=\"http://www.w3.org/2000/svg\" height=\"24px\"viewBox=\"0 0 24 24\"\n",
              "     width=\"24px\">\n",
              "    <g>\n",
              "        <path d=\"M19 3H5c-1.1 0-2 .9-2 2v14c0 1.1.9 2 2 2h14c1.1 0 2-.9 2-2V5c0-1.1-.9-2-2-2zM9 17H7v-7h2v7zm4 0h-2V7h2v10zm4 0h-2v-4h2v4z\"/>\n",
              "    </g>\n",
              "</svg>\n",
              "  </button>\n",
              "\n",
              "<style>\n",
              "  .colab-df-quickchart {\n",
              "      --bg-color: #E8F0FE;\n",
              "      --fill-color: #1967D2;\n",
              "      --hover-bg-color: #E2EBFA;\n",
              "      --hover-fill-color: #174EA6;\n",
              "      --disabled-fill-color: #AAA;\n",
              "      --disabled-bg-color: #DDD;\n",
              "  }\n",
              "\n",
              "  [theme=dark] .colab-df-quickchart {\n",
              "      --bg-color: #3B4455;\n",
              "      --fill-color: #D2E3FC;\n",
              "      --hover-bg-color: #434B5C;\n",
              "      --hover-fill-color: #FFFFFF;\n",
              "      --disabled-bg-color: #3B4455;\n",
              "      --disabled-fill-color: #666;\n",
              "  }\n",
              "\n",
              "  .colab-df-quickchart {\n",
              "    background-color: var(--bg-color);\n",
              "    border: none;\n",
              "    border-radius: 50%;\n",
              "    cursor: pointer;\n",
              "    display: none;\n",
              "    fill: var(--fill-color);\n",
              "    height: 32px;\n",
              "    padding: 0;\n",
              "    width: 32px;\n",
              "  }\n",
              "\n",
              "  .colab-df-quickchart:hover {\n",
              "    background-color: var(--hover-bg-color);\n",
              "    box-shadow: 0 1px 2px rgba(60, 64, 67, 0.3), 0 1px 3px 1px rgba(60, 64, 67, 0.15);\n",
              "    fill: var(--button-hover-fill-color);\n",
              "  }\n",
              "\n",
              "  .colab-df-quickchart-complete:disabled,\n",
              "  .colab-df-quickchart-complete:disabled:hover {\n",
              "    background-color: var(--disabled-bg-color);\n",
              "    fill: var(--disabled-fill-color);\n",
              "    box-shadow: none;\n",
              "  }\n",
              "\n",
              "  .colab-df-spinner {\n",
              "    border: 2px solid var(--fill-color);\n",
              "    border-color: transparent;\n",
              "    border-bottom-color: var(--fill-color);\n",
              "    animation:\n",
              "      spin 1s steps(1) infinite;\n",
              "  }\n",
              "\n",
              "  @keyframes spin {\n",
              "    0% {\n",
              "      border-color: transparent;\n",
              "      border-bottom-color: var(--fill-color);\n",
              "      border-left-color: var(--fill-color);\n",
              "    }\n",
              "    20% {\n",
              "      border-color: transparent;\n",
              "      border-left-color: var(--fill-color);\n",
              "      border-top-color: var(--fill-color);\n",
              "    }\n",
              "    30% {\n",
              "      border-color: transparent;\n",
              "      border-left-color: var(--fill-color);\n",
              "      border-top-color: var(--fill-color);\n",
              "      border-right-color: var(--fill-color);\n",
              "    }\n",
              "    40% {\n",
              "      border-color: transparent;\n",
              "      border-right-color: var(--fill-color);\n",
              "      border-top-color: var(--fill-color);\n",
              "    }\n",
              "    60% {\n",
              "      border-color: transparent;\n",
              "      border-right-color: var(--fill-color);\n",
              "    }\n",
              "    80% {\n",
              "      border-color: transparent;\n",
              "      border-right-color: var(--fill-color);\n",
              "      border-bottom-color: var(--fill-color);\n",
              "    }\n",
              "    90% {\n",
              "      border-color: transparent;\n",
              "      border-bottom-color: var(--fill-color);\n",
              "    }\n",
              "  }\n",
              "</style>\n",
              "\n",
              "  <script>\n",
              "    async function quickchart(key) {\n",
              "      const quickchartButtonEl =\n",
              "        document.querySelector('#' + key + ' button');\n",
              "      quickchartButtonEl.disabled = true;  // To prevent multiple clicks.\n",
              "      quickchartButtonEl.classList.add('colab-df-spinner');\n",
              "      try {\n",
              "        const charts = await google.colab.kernel.invokeFunction(\n",
              "            'suggestCharts', [key], {});\n",
              "      } catch (error) {\n",
              "        console.error('Error during call to suggestCharts:', error);\n",
              "      }\n",
              "      quickchartButtonEl.classList.remove('colab-df-spinner');\n",
              "      quickchartButtonEl.classList.add('colab-df-quickchart-complete');\n",
              "    }\n",
              "    (() => {\n",
              "      let quickchartButtonEl =\n",
              "        document.querySelector('#df-c7bb6f7c-ab64-4b85-a2af-5397f88eed72 button');\n",
              "      quickchartButtonEl.style.display =\n",
              "        google.colab.kernel.accessAllowed ? 'block' : 'none';\n",
              "    })();\n",
              "  </script>\n",
              "</div>\n",
              "\n",
              "  <div id=\"id_22c4fd1b-c540-4f90-be13-0ca37ce85aad\">\n",
              "    <style>\n",
              "      .colab-df-generate {\n",
              "        background-color: #E8F0FE;\n",
              "        border: none;\n",
              "        border-radius: 50%;\n",
              "        cursor: pointer;\n",
              "        display: none;\n",
              "        fill: #1967D2;\n",
              "        height: 32px;\n",
              "        padding: 0 0 0 0;\n",
              "        width: 32px;\n",
              "      }\n",
              "\n",
              "      .colab-df-generate:hover {\n",
              "        background-color: #E2EBFA;\n",
              "        box-shadow: 0px 1px 2px rgba(60, 64, 67, 0.3), 0px 1px 3px 1px rgba(60, 64, 67, 0.15);\n",
              "        fill: #174EA6;\n",
              "      }\n",
              "\n",
              "      [theme=dark] .colab-df-generate {\n",
              "        background-color: #3B4455;\n",
              "        fill: #D2E3FC;\n",
              "      }\n",
              "\n",
              "      [theme=dark] .colab-df-generate:hover {\n",
              "        background-color: #434B5C;\n",
              "        box-shadow: 0px 1px 3px 1px rgba(0, 0, 0, 0.15);\n",
              "        filter: drop-shadow(0px 1px 2px rgba(0, 0, 0, 0.3));\n",
              "        fill: #FFFFFF;\n",
              "      }\n",
              "    </style>\n",
              "    <button class=\"colab-df-generate\" onclick=\"generateWithVariable('df')\"\n",
              "            title=\"Generate code using this dataframe.\"\n",
              "            style=\"display:none;\">\n",
              "\n",
              "  <svg xmlns=\"http://www.w3.org/2000/svg\" height=\"24px\"viewBox=\"0 0 24 24\"\n",
              "       width=\"24px\">\n",
              "    <path d=\"M7,19H8.4L18.45,9,17,7.55,7,17.6ZM5,21V16.75L18.45,3.32a2,2,0,0,1,2.83,0l1.4,1.43a1.91,1.91,0,0,1,.58,1.4,1.91,1.91,0,0,1-.58,1.4L9.25,21ZM18.45,9,17,7.55Zm-12,3A5.31,5.31,0,0,0,4.9,8.1,5.31,5.31,0,0,0,1,6.5,5.31,5.31,0,0,0,4.9,4.9,5.31,5.31,0,0,0,6.5,1,5.31,5.31,0,0,0,8.1,4.9,5.31,5.31,0,0,0,12,6.5,5.46,5.46,0,0,0,6.5,12Z\"/>\n",
              "  </svg>\n",
              "    </button>\n",
              "    <script>\n",
              "      (() => {\n",
              "      const buttonEl =\n",
              "        document.querySelector('#id_22c4fd1b-c540-4f90-be13-0ca37ce85aad button.colab-df-generate');\n",
              "      buttonEl.style.display =\n",
              "        google.colab.kernel.accessAllowed ? 'block' : 'none';\n",
              "\n",
              "      buttonEl.onclick = () => {\n",
              "        google.colab.notebook.generateWithVariable('df');\n",
              "      }\n",
              "      })();\n",
              "    </script>\n",
              "  </div>\n",
              "\n",
              "    </div>\n",
              "  </div>\n"
            ]
          },
          "metadata": {},
          "execution_count": 4
        }
      ],
      "source": [
        "df"
      ]
    },
    {
      "cell_type": "code",
      "source": [
        "# Extract the 'x' and 'y' columns from the DataFrame and convert them to lists\n",
        "X = [float(item) for item in list(df['x'])]\n",
        "Y = [float(item) for item in list(df['y'])]\n",
        "\n",
        "# Scatter plot of the data points using Matplotlib\n",
        "plt.scatter(X, Y, s=5)\n",
        "\n",
        "# Display the plot\n",
        "plt.show()"
      ],
      "metadata": {
        "id": "yfHqyrpFpe1W",
        "colab": {
          "base_uri": "https://localhost:8080/",
          "height": 430
        },
        "outputId": "4a606a1b-e4e7-423c-83ca-bbf139ed9e17"
      },
      "execution_count": null,
      "outputs": [
        {
          "output_type": "display_data",
          "data": {
            "text/plain": [
              "<Figure size 640x480 with 1 Axes>"
            ],
            "image/png": "[encoded data removed]"
          },
          "metadata": {}
        }
      ]
    },
    {
      "cell_type": "code",
      "source": [
        "# Initialize lists to store the results of calculations\n",
        "XY = []\n",
        "X_square = []\n",
        "\n",
        "# Loop through the first 100 elements of X and Y\n",
        "for i in range(100):\n",
        "    # Calculate the product of X[i] and Y[i] and append it to XY\n",
        "    product = X[i] * Y[i]\n",
        "    XY.append(product)\n",
        "\n",
        "    # Calculate the square of X[i] and append it to X_square\n",
        "    square = X[i] ** 2\n",
        "    X_square.append(square)\n",
        "\n",
        "# Calculate the averages of XY, X, Y, and X_square\n",
        "average_XY = np.mean(XY)\n",
        "average_X = np.mean(X)\n",
        "average_Y = np.mean(Y)\n",
        "average_X_square = np.mean(X_square)\n",
        "\n",
        "# Display the calculated averages\n",
        "print(\"Average of XY:\", average_XY)\n",
        "print(\"Average of X:\", average_X)\n",
        "print(\"Average of Y:\", average_Y)\n",
        "print(\"Average of X_square:\", average_X_square)"
      ],
      "metadata": {
        "colab": {
          "base_uri": "https://localhost:8080/"
        },
        "id": "0AsbLtkgNFIx",
        "outputId": "ae5aa341-67b8-4042-d749-04271dc8ddac"
      },
      "execution_count": null,
      "outputs": [
        {
          "output_type": "stream",
          "name": "stdout",
          "text": [
            "Average of XY: 109.352647325189\n",
            "Average of X: 5.05\n",
            "Average of Y: 17.72029046035\n",
            "Average of X_square: 33.83500000000001\n"
          ]
        }
      ]
    },
    {
      "cell_type": "code",
      "source": [
        "# Calculate the slope (m) using the least squares method\n",
        "numerator = average_XY - average_X * average_Y\n",
        "denominator = average_X_square - average_X ** 2\n",
        "m = numerator / denominator\n",
        "\n",
        "# Calculate the y-intercept (c) using the calculated slope\n",
        "c = average_Y - m * average_X\n",
        "\n",
        "# Display the values of slope (m) and y-intercept (c)\n",
        "print(\"Value of slope (m):\", m)\n",
        "print(\"Value of y-intercept (c):\", c)"
      ],
      "metadata": {
        "colab": {
          "base_uri": "https://localhost:8080/"
        },
        "id": "Sj8ST7GSNHmk",
        "outputId": "9c8ebd11-a378-49f5-aa91-fee9a9f3177c"
      },
      "execution_count": null,
      "outputs": [
        {
          "output_type": "stream",
          "name": "stdout",
          "text": [
            "Value of slope (m): 2.384060066057183\n",
            "Value of y-intercept (c): 5.680787126761226\n"
          ]
        }
      ]
    },
    {
      "cell_type": "code",
      "source": [
        "# Initialize a list to store the predicted Y values\n",
        "predicted_Y = []\n",
        "\n",
        "# Loop through the first 100 elements of X to predict corresponding Y values\n",
        "for i in range(100):\n",
        "    # Use the equation of the line (Y = m * X + c) to calculate predicted Y\n",
        "    predicted_value = m * X[i] + c\n",
        "    predicted_Y.append(predicted_value)\n",
        "\n",
        "# Plotting the graph; Given data set is scattered, but the predicted dataset is represented as a line.\n",
        "plt.scatter(X, Y, s=0.4, label='Actual Data')  # Scatter plot for the actual data points\n",
        "plt.plot(X, predicted_Y, label='Regression Line', color='red')  # Line plot for the predicted values\n",
        "\n",
        "# Adding labels and legend\n",
        "plt.xlabel('X')\n",
        "plt.ylabel('Y')\n",
        "plt.legend()\n",
        "\n",
        "# Display the plot\n",
        "plt.show()"
      ],
      "metadata": {
        "colab": {
          "base_uri": "https://localhost:8080/",
          "height": 449
        },
        "id": "DyZrIBO2NKCl",
        "outputId": "a6fe6de4-25d7-46d4-d8e1-e952227bcc3d"
      },
      "execution_count": null,
      "outputs": [
        {
          "output_type": "display_data",
          "data": {
            "text/plain": [
              "<Figure size 640x480 with 1 Axes>"
            ],
            "image/png": "[encoded data removed]"
          },
          "metadata": {}
        }
      ]
    },
    {
      "cell_type": "markdown",
      "source": [
        "# Verification"
      ],
      "metadata": {
        "id": "r8ijUnjJBkIL"
      }
    },
    {
      "cell_type": "code",
      "source": [
        "# Using linear regression from scikit-learn\n",
        "regr = LinearRegression()\n",
        "\n",
        "# Reshape X and Y arrays to a 2D array for scikit-learn\n",
        "x_array = np.array(X).reshape(-1, 1)\n",
        "y_array = np.array(Y).reshape(-1, 1)\n",
        "\n",
        "# Fit the linear regression model\n",
        "regr.fit(x_array, y_array)\n",
        "\n",
        "# Display the slope (coefficient) and intercept of the linear regression model\n",
        "print(\"Slope (Coefficient): \", regr.coef_)\n",
        "print(\"Intercept: \", regr.intercept_)"
      ],
      "metadata": {
        "colab": {
          "base_uri": "https://localhost:8080/"
        },
        "id": "BderpqgvNOXz",
        "outputId": "feb67509-a008-49c5-b5a7-ba868a3ee5db"
      },
      "execution_count": null,
      "outputs": [
        {
          "output_type": "stream",
          "name": "stdout",
          "text": [
            "Slope (Coefficient):  [[2.38406007]]\n",
            "Intercept:  [5.68078713]\n"
          ]
        }
      ]
    },
    {
      "cell_type": "code",
      "source": [
        "# Predicting the values using the trained linear regression model\n",
        "y_pred_array = regr.predict(x_array)\n",
        "y_pred_list = list(y_pred_array.reshape(1, -1)[0])\n",
        "\n",
        "# Plotting the scatter plot for the actual data points and the regression line for predicted values\n",
        "plt.scatter(X, Y, s=0.4, label='Actual Data')  # Scatter plot for the actual data points\n",
        "plt.plot(X, y_pred_list, label='Regression Line', color='red')  # Line plot for the predicted values\n",
        "\n",
        "# Adding labels and legend\n",
        "plt.xlabel('X')\n",
        "plt.ylabel('Y')\n",
        "plt.legend()\n",
        "\n",
        "# Display the plot\n",
        "plt.show()"
      ],
      "metadata": {
        "colab": {
          "base_uri": "https://localhost:8080/",
          "height": 449
        },
        "id": "b-P54X-mNTus",
        "outputId": "206a2b91-8e27-410c-8f50-1ca2bc00003d"
      },
      "execution_count": null,
      "outputs": [
        {
          "output_type": "display_data",
          "data": {
            "text/plain": [
              "<Figure size 640x480 with 1 Axes>"
            ],
            "image/png": "[encoded data removed]"
          },
          "metadata": {}
        }
      ]
    },
    {
      "cell_type": "code",
      "source": [
        "# Calculate error metrics between the predictions by the SKLearn regression model and the given data\n",
        "mae = mean_absolute_error(y_true=y_array, y_pred=y_pred_array)\n",
        "mse = mean_squared_error(y_true=y_array, y_pred=y_pred_array)\n",
        "rmse = np.sqrt(mse)  # Calculate RMSE as the square root of MSE\n",
        "# r_square = r2_score(y_array, y_pred_array)\n",
        "\n",
        "# Display the calculated error metrics\n",
        "print(\"Mean Absolute Error (MAE):\", mae)\n",
        "print(\"Mean Squared Error (MSE):\", mse)\n",
        "print(\"Root Mean Squared Error (RMSE):\", rmse)\n",
        "# print(\"R-Squared (r_square):\", r_square)"
      ],
      "metadata": {
        "colab": {
          "base_uri": "https://localhost:8080/"
        },
        "id": "RxmRyNy3NXV1",
        "outputId": "ea44c088-eacf-4887-9764-5565afe9a1c7"
      },
      "execution_count": null,
      "outputs": [
        {
          "output_type": "stream",
          "name": "stdout",
          "text": [
            "Mean Absolute Error (MAE): 1.280555978429147\n",
            "Mean Squared Error (MSE): 2.078525401777328\n",
            "Root Mean Squared Error (RMSE): 1.4417091945941551\n"
          ]
        }
      ]
    },
    {
      "cell_type": "code",
      "source": [
        "# Calculate error metrics between the predictions by the custom regression model and the given data\n",
        "mae = mean_absolute_error(y_true=y_array, y_pred=predicted_Y)\n",
        "mse = mean_squared_error(y_true=y_array, y_pred=predicted_Y)\n",
        "rmse = np.sqrt(mse)  # Calculate RMSE as the square root of MSE\n",
        "# r_square = r2_score(y_array, predicted_Y)\n",
        "\n",
        "# Display the calculated error metrics\n",
        "print(\"Mean Absolute Error (MAE):\", mae)\n",
        "print(\"Mean Squared Error (MSE):\", mse)\n",
        "print(\"Root Mean Squared Error (RMSE):\", rmse)\n",
        "# print(\"R-Squared (r_square):\", r_square)"
      ],
      "metadata": {
        "colab": {
          "base_uri": "https://localhost:8080/"
        },
        "id": "iyZ8Dh3jNZjV",
        "outputId": "a1c0ef6f-330c-484f-f140-c614bc41f00f"
      },
      "execution_count": null,
      "outputs": [
        {
          "output_type": "stream",
          "name": "stdout",
          "text": [
            "Mean Absolute Error (MAE): 1.2805559784291467\n",
            "Mean Squared Error (MSE): 2.0785254017773265\n",
            "Root Mean Squared Error (RMSE): 1.4417091945941547\n"
          ]
        }
      ]
    },
    {
      "cell_type": "markdown",
      "source": [
        "# Gradient Descent"
      ],
      "metadata": {
        "id": "KQhZ5ieYNeHu"
      }
    },
    {
      "cell_type": "code",
      "source": [
        "def gradient_descent(X, Y, learning_rate):\n",
        "    \"\"\"\n",
        "    Performs gradient descent to find the optimal parameters (m, c) for a linear regression model.\n",
        "\n",
        "    Parameters:\n",
        "    - X: Input feature (independent variable)\n",
        "    - Y: Output variable (dependent variable)\n",
        "    - learning_rate: Step size for gradient descent\n",
        "\n",
        "    Returns:\n",
        "    - Tuple containing the optimized values for slope (m) and y-intercept (c)\n",
        "    \"\"\"\n",
        "\n",
        "    # Initialize parameters\n",
        "    n = len(Y)  # Total number of data points\n",
        "    m = 0       # Initialize slope (m) with 0\n",
        "    c = 0       # Initialize y-intercept (c) with 0\n",
        "\n",
        "    # Perform gradient descent for a fixed number of epochs (iterations)\n",
        "    for _ in range(1000):\n",
        "        # Update slope (m)\n",
        "        m_gradient = sum((c + m * X[i] - Y[i]) * X[i] for i in range(n))\n",
        "        m -= learning_rate * (2 / n) * m_gradient\n",
        "\n",
        "        # Update y-intercept (c)\n",
        "        c_gradient = sum(c + m * X[i] - Y[i] for i in range(n))\n",
        "        c -= learning_rate * (2 / n) * c_gradient\n",
        "\n",
        "    return (m, c)\n",
        "\n",
        "# Perform gradient descent with a learning rate of 0.01\n",
        "optimized_params = gradient_descent(X, Y, 0.01)\n",
        "\n",
        "# Display the optimized parameters (slope, y-intercept)\n",
        "print(\"Optimized Parameters (m, c):\", optimized_params)\n"
      ],
      "metadata": {
        "colab": {
          "base_uri": "https://localhost:8080/"
        },
        "id": "a0OsLeRWNeo-",
        "outputId": "5da352b9-2dc4-4b06-e083-4d9f8878aae2"
      },
      "execution_count": null,
      "outputs": [
        {
          "output_type": "stream",
          "name": "stdout",
          "text": [
            "Optimized Parameters (m, c): (2.3902331961190626, 5.639726026491245)\n"
          ]
        }
      ]
    },
    {
      "cell_type": "markdown",
      "source": [
        "### Stochastic Gradient Descent"
      ],
      "metadata": {
        "id": "hVLoLISGNgzo"
      }
    },
    {
      "cell_type": "code",
      "source": [
        "def stochastic_gradient_descent(X, Y, learning_rate):\n",
        "    \"\"\"\n",
        "    Performs stochastic gradient descent to find the optimal parameters (m, c) for a linear regression model.\n",
        "\n",
        "    Parameters:\n",
        "    - X: Input feature (independent variable)\n",
        "    - Y: Output variable (dependent variable)\n",
        "    - learning_rate: Step size for stochastic gradient descent\n",
        "\n",
        "    Returns:\n",
        "    - Tuple containing the optimized values for slope (m) and y-intercept (c)\n",
        "    \"\"\"\n",
        "\n",
        "    # Initialize parameters\n",
        "    n = len(Y)  # Total number of data points\n",
        "    m = 0       # Initialize slope (m) with 0\n",
        "    c = 0       # Initialize y-intercept (c) with 0\n",
        "    k = 1       # Mini-batch size\n",
        "\n",
        "    # Perform stochastic gradient descent for a fixed number of epochs (iterations)\n",
        "    for _ in range(2000):\n",
        "        j = len(Y)\n",
        "\n",
        "        # Iterate through mini-batches\n",
        "        while j > k:\n",
        "            sum_m = 0\n",
        "\n",
        "            # Update slope (m) using a mini-batch\n",
        "            for i in range(k):\n",
        "                i = j - i - 1\n",
        "                q = c * X[i] + m * X[i] * X[i] - X[i] * Y[i]\n",
        "                sum_m += q\n",
        "\n",
        "            m_new = m - learning_rate * ((2 / n) * sum_m)\n",
        "            m = m_new\n",
        "            j = j - k\n",
        "\n",
        "        j = len(Y)\n",
        "\n",
        "        # Iterate through mini-batches\n",
        "        while j > k:\n",
        "            sum_c = 0\n",
        "\n",
        "            # Update y-intercept (c) using a mini-batch\n",
        "            for i in range(k):\n",
        "                i = j - i - 1\n",
        "                q = c + m * X[i] - Y[i]\n",
        "                sum_c += q\n",
        "\n",
        "            c_new = c - learning_rate * ((2 / n) * sum_c)\n",
        "            c = c_new\n",
        "            j = j - k\n",
        "\n",
        "    return (m, c)\n",
        "\n",
        "# Shuffle the data using random permutation\n",
        "perm = np.random.permutation(len(Y))\n",
        "sx = np.array(X)[perm]\n",
        "sy = np.array(Y)[perm]\n",
        "\n",
        "# Perform stochastic gradient descent with a learning rate of 0.01\n",
        "optimized_params = stochastic_gradient_descent(sx, sy, 0.01)\n",
        "\n",
        "# Display the optimized parameters (slope, y-intercept)\n",
        "print(\"Optimized Parameters (m, c):\", optimized_params)"
      ],
      "metadata": {
        "colab": {
          "base_uri": "https://localhost:8080/"
        },
        "id": "Bv_GRqcaNjxx",
        "outputId": "420ca89f-6d27-43b0-8d54-8131c2e00d0d"
      },
      "execution_count": null,
      "outputs": [
        {
          "output_type": "stream",
          "name": "stdout",
          "text": [
            "Optimized Parameters (m, c): (2.358354961339667, 5.808405293020509)\n"
          ]
        }
      ]
    }
  ]
}