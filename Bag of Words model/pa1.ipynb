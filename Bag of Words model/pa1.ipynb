{
  "cells": [
    {
      "cell_type": "markdown",
      "metadata": {
        "pycharm": {
          "name": "#%% md\n"
        },
        "id": "0dEyUsxQwJbV"
      },
      "source": [
        "#  Assignment 1\n",
        "You are given $n$ documents (labels $\\in \\{-1,+1\\}$), each consisting of $n_i$ words from some finite vocabulary $\\mathsf{V=\\{v_1,v_2,\\dots,v_d\\}}$ with size $d$.\n",
        "We represent document $i$ by a vector\n",
        "$$\n",
        "    \\mathsf{\\mathbf{x_i} = \\begin{pmatrix} \\mathsf{x_{i1}, x_{i2},\\dots,x_{id},1 }\\end{pmatrix}}\n",
        "$$ where $x_{ij}=$ number of times that word $v_j$ appears in document $i$.\n",
        "Now let matrix $X$ of size $n$ by $d+1$ where its $i$-th row is equal to $\\mathbf{x_i}$; i.e.\n",
        "$$\n",
        "    \\mathsf{X = \\begin{pmatrix} \\mathsf{x_{ij}} \\end{pmatrix}_{i\\in[n],j\\in[d+1]}}\n",
        "$$\n",
        "also let vector $\\mathbf{y} \\in \\{-1,+1\\}^n$ be\n",
        "$$\n",
        "    \\mathbf{y}=\\begin{pmatrix} \\mathsf{y_1 \\\\\n",
        "                                   y_2 \\\\\n",
        "                                   \\dots \\\\\n",
        "                                   y_n}\n",
        "                                   \\end{pmatrix}\n",
        "$$\n",
        "wher $y_i$ is the label of document $i$.\n",
        "### Buidling $X$ and $\\mathbf{y}$\n",
        "You are given two text files\n",
        "1. `train.txt`: training set (labeled documents)\n",
        "2. `test.txt`: test set (unlabeled documents)\n",
        "\n",
        "in `train.txt`:\n",
        "- line $1$ is the number of documents in training set $n_{\\mathrm{train}}$\n",
        "- line $2i$ contain words in document $i$ separated by space  ($i=1,2,\\dots,n_{\\mathrm{train}}$)\n",
        "- line $2i+1$ contain label for document $i$    ($i=1,2,\\dots,n_{\\mathrm{train}}$)\n",
        "\n",
        "in `test.txt`:\n",
        "- line $1$ is the number of documents in training set $n_{\\mathrm{test}}$\n",
        "- line $i+1$ contain words in document $i$ separated by space  ($i=1,2,\\dots,n_{\\mathrm{test}}$)\n",
        "\n",
        "Now let's build $X_\\mathrm{train}$,$X_\\mathrm{test}$, and $\\mathbf{y}_{\\mathrm{train}}$ as defined above using `train.txt` and `test.txt`\n",
        "\n",
        "### IMPORTANT\n",
        "- Documents are numbered as they appear in the input file\n",
        "- let Vocabulary $V=(v_1,v_2,\\dots,v_d)$ be **sorted** list of all distinct word in the documents of **training** set."
      ]
    },
    {
      "cell_type": "code",
      "execution_count": 76,
      "metadata": {
        "id": "DxCey90KwJbX"
      },
      "outputs": [],
      "source": [
        "import numpy as np\n",
        "import pandas as pd"
      ]
    },
    {
      "cell_type": "code",
      "source": [
        "# (ACT1-3) using input files compute the following\n",
        "#ACT1\n",
        "with open('train.txt', 'r') as file:\n",
        "    docs_train_list = [line.strip().split() for line in file if len(line) > 5]\n",
        "\n",
        "#ACT2\n",
        "with open('test.txt', 'r') as file:\n",
        "    docs_test_list = [line.strip().split() for line in file if len(line) > 5]\n",
        "\n",
        "# ACT3\n",
        "with open('train.txt', 'r') as file:\n",
        "    docs_train_list_levels = [line.strip().split() for line in file if len(line) <= 3]\n",
        "level = []\n",
        "for i in range(len(docs_train_list_levels)):\n",
        "    level.append(int(docs_train_list_levels[i][0]))\n",
        "\n",
        "docs_train = docs_train_list #list of documents where each document is a list of words\n",
        "docs_test = docs_test_list #list of documents where each document is a list of words\n",
        "labels = level  #list of labels each either -1 or +1\n",
        "\n",
        "n_train = len(docs_train)\n",
        "n_test = len(docs_test)\n",
        "print(docs_train[40])\n",
        "print(docs_test[40])\n",
        "\n",
        "#CHECKS\n",
        "assert((n_train+n_test)==1500)\n",
        "assert(np.sum(np.array(labels).astype(int))== -348)\n",
        "assert(len(docs_train[1])+len(docs_test[1])==12)"
      ],
      "metadata": {
        "id": "wwnxITcJxs8M",
        "colab": {
          "base_uri": "https://localhost:8080/"
        },
        "outputId": "e12c9749-08b6-4911-df49-e203ab392c1a"
      },
      "execution_count": 77,
      "outputs": [
        {
          "output_type": "stream",
          "name": "stdout",
          "text": [
            "['WAcqG', 'Rv', 'zY#tE', 'tgU', 'tgU', 'tgU']\n",
            "['LnGi', 'LnGi', 'dZJa', 'Rv', 'Rv', 'ITZM']\n"
          ]
        }
      ]
    },
    {
      "cell_type": "code",
      "execution_count": 78,
      "metadata": {
        "id": "MOTqA8n4wJbY",
        "colab": {
          "base_uri": "https://localhost:8080/"
        },
        "outputId": "740b3955-c42b-40e0-93a2-e50f9ee9b7d7"
      },
      "outputs": [
        {
          "output_type": "stream",
          "name": "stdout",
          "text": [
            "['ITZM', 'JgwBu', 'LnGi', 'OnJECH', 'Rv', 'WAcqG', 'dZJa', 'iWgN', 'tgU', 'zY#tE']\n",
            "{'ITZM': 0, 'JgwBu': 1, 'LnGi': 2, 'OnJECH': 3, 'Rv': 4, 'WAcqG': 5, 'dZJa': 6, 'iWgN': 7, 'tgU': 8, 'zY#tE': 9}\n"
          ]
        }
      ],
      "source": [
        "# (ACT4) design a function that takes list of documents (list of list of words)\n",
        "# as input and returns sorted list of distinct words\n",
        "# use built-in sort in python for sorting strings\n",
        "def make_vocabulary(docs):\n",
        "    words = []  # Initialize an empty list to store unique words\n",
        "    for i in range(len(docs)):\n",
        "        for j in range(len(docs[i])):\n",
        "            if docs[i][j] not in words:\n",
        "                words.append(docs[i][j])  # Add unique words to the list\n",
        "    words.sort()  # Sort the list of words alphabetically\n",
        "    return words\n",
        "\n",
        "vocab = make_vocabulary(docs_train)\n",
        "d = len(vocab)\n",
        "w2i = {vocab[i]:i for i in range(len(vocab))} # maps words in dictionary to corresponding index\n",
        "print(vocab)\n",
        "print(w2i)\n",
        "\n",
        "#CHECKS\n",
        "assert(vocab[2]==\"LnGi\")\n",
        "assert(vocab == sorted(vocab))"
      ]
    },
    {
      "cell_type": "code",
      "execution_count": 79,
      "metadata": {
        "id": "Yu3_S0FawJbY"
      },
      "outputs": [],
      "source": [
        "# (ACT5) design a function that takes\n",
        "# (1) docs: list of documents (i.e. list of list of words)\n",
        "# (2) w2i: a dictionary that maps words to index\n",
        "# output numpy matrix X as described above with shape of (n,d+1) -- where d is size of vocabulary\n",
        "# (DO NOT forget last column of X which is all 1)\n",
        "\n",
        "def make_matrix(docs, w2i):\n",
        "    # Initialize an empty matrix with zeros\n",
        "    X = [[0 for i in range(len(w2i) + 1)] for i in range(len(docs))]\n",
        "\n",
        "    for i in range(len(docs)):\n",
        "        X[i][-1] = 1  # Set the last column to 1\n",
        "\n",
        "        for k in w2i:\n",
        "            X[i][w2i[k]] = docs[i].count(k)  # Count occurrences of each word and update the matrix\n",
        "\n",
        "    return X\n",
        "\n",
        "X_train = make_matrix(docs_train,w2i)\n",
        "X_test = make_matrix(docs_test,w2i)\n",
        "y_train = np.array(labels)"
      ]
    },
    {
      "cell_type": "code",
      "source": [
        "# (ACT6-8)\n",
        "print (\"First 5 rows of X_train: \")\n",
        "print(X_train[:5])\n",
        "print (\"Last 5 rows of X_test: \")\n",
        "print(X_train[996:1000])\n",
        "print (\"First 10 labels of training set:\")\n",
        "print (labels[:10])\n",
        "\n",
        "#CHECKS\n",
        "assert(np.sum(X_train)==6871)\n",
        "assert(np.sum(X_test)==3462)\n",
        "assert(np.sum(X_test[10] + X_train[10]) == 11)"
      ],
      "metadata": {
        "colab": {
          "base_uri": "https://localhost:8080/"
        },
        "id": "aRququWZ1Exw",
        "outputId": "95f41c6f-b98a-46ac-a70f-c6d9076cfcb1"
      },
      "execution_count": 80,
      "outputs": [
        {
          "output_type": "stream",
          "name": "stdout",
          "text": [
            "First 5 rows of X_train: \n",
            "[[0, 0, 0, 0, 1, 0, 0, 0, 1, 1, 1], [3, 0, 0, 0, 1, 0, 2, 0, 2, 0, 1], [0, 0, 0, 0, 0, 0, 0, 0, 2, 0, 1], [1, 1, 0, 0, 0, 1, 0, 1, 3, 2, 1], [1, 0, 0, 1, 2, 0, 2, 0, 1, 0, 1]]\n",
            "Last 5 rows of X_test: \n",
            "[[0, 1, 1, 1, 1, 2, 0, 0, 2, 0, 1], [1, 0, 1, 0, 1, 0, 1, 0, 3, 1, 1], [2, 0, 0, 0, 0, 0, 0, 1, 1, 0, 1], [0, 0, 0, 0, 1, 0, 0, 1, 0, 0, 1]]\n",
            "First 10 labels of training set:\n",
            "[-1, 1, -1, 1, -1, -1, 1, -1, -1, -1]\n"
          ]
        }
      ]
    },
    {
      "cell_type": "markdown",
      "metadata": {
        "id": "yRz2SpSIwJbY"
      },
      "source": [
        "## Linear Predictor\n",
        "\n",
        "Let $\\mathbf{w} \\in \\mathbb{R}^{d+1}$, for a single document $\\mathbf{x} \\in \\mathbb{R}^{d+1}$, our predicted label is\n",
        "$$\n",
        "    \\mathsf{\\hat{y} = \\mathrm{sign}({\\mathbf{w} \\cdot \\mathbf{y}})}\n",
        "$$\n",
        "where\n",
        "$$\n",
        "    \\displaystyle  \\mathrm{sign}(\\alpha) = \\begin{cases}\n",
        "      +1 & \\alpha \\geq 0 \\\\\n",
        "      -1 & \\alpha < 0 \\\\\n",
        "    \\end{cases}\n",
        "$$\n",
        "\n",
        "Therefore, for documents matrix $X \\in \\mathbb{R}^{n\\times(d+1)}$ we predict labels $\\hat{\\mathbf{y}} \\in \\{-1,+1\\}^n$\n",
        "$$\n",
        "    \\hat{\\mathbf{y}} = \\mathrm{sign}(X\\mathbf{w})\n",
        "$$\n",
        "where $\\mathrm{sign()}$ here is defined to elementwise applying the sign we defined previously.\n",
        "\n",
        "The error of our prediction over $X$ with true labels $\\mathbf{y}$, is defined to be\n",
        "$$\n",
        "    \\mathsf{\\mathrm{error}=\\frac{1}{n}\\sum_{i=1}^{n}\\ell_{01}(y_i,\\hat{y}_i)}\n",
        "$$\n",
        "where $\\displaystyle \\mathsf{ \\ell_{01}(y,\\hat{y})= \\begin{cases} 1 & y\\neq\\hat{y} \\\\ 0 & \\text{otherwise}\\end{cases} }$"
      ]
    },
    {
      "cell_type": "code",
      "execution_count": 81,
      "metadata": {
        "id": "njO4ApAiwJbY"
      },
      "outputs": [],
      "source": [
        "# (ACT9) Design a function that takes y (list of true labels) and y_hat (list of predicted labels)\n",
        "# and computes the error\n",
        "def err(y,y_hat):\n",
        "    count = 0  # Initialize a counter for misclassified instances\n",
        "\n",
        "    # Loop through each element in the lists and count misclassifications\n",
        "    for i in range(len(y)):\n",
        "        if y[i] != y_hat[i]:\n",
        "            count = count + 1\n",
        "\n",
        "    # Calculate the error rate as the fraction of misclassified instances\n",
        "    return count / len(y)\n",
        "\n",
        "#CHECKS\n",
        "assert(err([-1,+1,-1,+1],[+1,+1,+1,-1])==0.75)\n",
        "assert(err([+1,+1,+1,+1],[+1,+1,+1,-1])==0.25)\n",
        "assert(err([-1,-1,-1,+1],[+1,+1,+1,-1])==1)"
      ]
    },
    {
      "cell_type": "code",
      "execution_count": 82,
      "metadata": {
        "id": "_qwvh3-twJbY"
      },
      "outputs": [],
      "source": [
        "# (ACT10) Design a function that takes as input\n",
        "# (1) document matrix X --- numpy array shape =  (n,d+1)\n",
        "# (2) vector w --- numpy array shape = (d+1,1) or (d+1,)\n",
        "# and output\n",
        "# (1) predictions y_hat --- numpy array shape = (n,1)\n",
        "def predict(X,w):\n",
        "    y_hat1 = []  # Initialize an empty list for predicted labels\n",
        "\n",
        "    # Loop through each row in the matrix\n",
        "    for i in range(len(X)):\n",
        "        sum = 0\n",
        "\n",
        "        # Compute the dot product of X[i] and w\n",
        "        for j in range(len(w)):\n",
        "            sum = sum + X[i][j] * w[j]\n",
        "\n",
        "        # Make a prediction based on the sign of the dot product\n",
        "        if sum >= 0:\n",
        "            y_hat1.append(1)\n",
        "        else:\n",
        "            y_hat1.append(-1)\n",
        "\n",
        "    # Convert the list to a numpy array for consistency\n",
        "    y_hat = np.array(y_hat1)\n",
        "\n",
        "    return y_hat\n",
        "\n",
        "#CHECKS\n",
        "assert(np.sum(predict(X_train,np.ones(d+1).reshape(-1,1)).reshape(-1,1))==n_train)"
      ]
    },
    {
      "cell_type": "markdown",
      "metadata": {
        "id": "83EUGUbtwJbY"
      },
      "source": [
        "### Candidate list for $\\mathbf{w}$\n",
        "we give you a small candidates list `candids` of $\\mathbf{w}$'s. We want you to find $\\mathbf{w}^*$ in this list which gives you the smallest error over **training set**."
      ]
    },
    {
      "cell_type": "code",
      "execution_count": 83,
      "metadata": {
        "id": "MzVRHLrWwJbZ",
        "colab": {
          "base_uri": "https://localhost:8080/"
        },
        "outputId": "fdf356a5-5f07-40d5-d9ae-f9ef53d6b374"
      },
      "outputs": [
        {
          "output_type": "stream",
          "name": "stdout",
          "text": [
            "size of candidates lists : 10\n",
            "size of each w in candidates lists : 11\n",
            "[[ 0.24771893]\n",
            " [ 0.0797402 ]\n",
            " [ 0.06736309]\n",
            " [ 0.12221225]\n",
            " [ 0.00692924]\n",
            " [ 0.30678176]\n",
            " [ 0.1730867 ]\n",
            " [ 0.02923004]\n",
            " [ 0.33520645]\n",
            " [ 0.06869451]\n",
            " [-0.8189899 ]]\n"
          ]
        }
      ],
      "source": [
        "# Loading candidates list candids = [w0,w1,...]\n",
        "import pickle\n",
        "with open('candids.pkl', 'rb') as f:\n",
        "    candids = pickle.load(f)\n",
        "print(\"size of candidates lists :\", len(candids))\n",
        "print(\"size of each w in candidates lists :\", len(candids[0]))\n",
        "print(candids[0])"
      ]
    },
    {
      "cell_type": "code",
      "execution_count": 75,
      "metadata": {
        "id": "oqhcCIR2wJbZ",
        "colab": {
          "base_uri": "https://localhost:8080/"
        },
        "outputId": "d4f4e783-e4eb-4f87-e4c9-6e4b703d238a"
      },
      "outputs": [
        {
          "output_type": "stream",
          "name": "stdout",
          "text": [
            "Training Error of candidates:\n",
            "Candidate #0 has error 0.252\n",
            "Candidate #1 has error 0.273\n",
            "Candidate #2 has error 0.0\n",
            "Candidate #3 has error 0.285\n",
            "Candidate #4 has error 0.29\n",
            "Candidate #5 has error 0.327\n",
            "Candidate #6 has error 0.18\n",
            "Candidate #7 has error 0.265\n",
            "Candidate #8 has error 0.223\n",
            "Candidate #9 has error 0.206\n",
            "Index of the best predictor: 2\n",
            "Best Predictor:\n",
            "[[ 0.22045993]\n",
            " [ 0.        ]\n",
            " [ 0.        ]\n",
            " [ 0.11585252]\n",
            " [ 0.        ]\n",
            " [ 0.28635182]\n",
            " [ 0.14144608]\n",
            " [ 0.        ]\n",
            " [ 0.25414682]\n",
            " [ 0.        ]\n",
            " [-0.87828279]]\n",
            "2.301\n"
          ]
        }
      ],
      "source": [
        "# (ACT11) fill err_list with training error of each candidate w\n",
        "err_list = []  # Initialize an empty list to store errors for each candidate w\n",
        "\n",
        "# Loop through each candidate w in candids\n",
        "for i in range(len(candids)):\n",
        "    # Predict labels using the current candidate w\n",
        "    y_pred = predict(X_train, candids[i])\n",
        "\n",
        "    # Compute the error between true labels and predicted labels\n",
        "    e = err(y_train, y_pred)\n",
        "\n",
        "    # Append the error to the err_list\n",
        "    err_list.append(e)\n",
        "\n",
        "# (ACT12) index of w with the smallest error over training set\n",
        "best_index = np.argmin(err_list)\n",
        "\n",
        "print(\"Training Error of candidates:\")\n",
        "for i, err in enumerate(err_list):\n",
        "    print(f\"Candidate #{i} has error {err}\")\n",
        "\n",
        "print(\"Index of the best predictor: %d\" % best_index)\n",
        "print(\"Best Predictor:\")\n",
        "print(candids[best_index])\n",
        "print(np.sum(err_list))\n",
        "\n",
        "# CHECKS\n",
        "assert(np.sum(err_list) <= 2.5)\n"
      ]
    },
    {
      "cell_type": "code",
      "execution_count": 84,
      "metadata": {
        "id": "FK9lEafpwJbZ",
        "colab": {
          "base_uri": "https://localhost:8080/"
        },
        "outputId": "4f864b02-95e9-4dfc-80ea-2c3915c04b13"
      },
      "outputs": [
        {
          "output_type": "stream",
          "name": "stdout",
          "text": [
            "First 10 labels predicted for the test set:\n",
            "[ 1 -1  1 -1 -1 -1 -1 -1 -1 -1]\n"
          ]
        }
      ],
      "source": [
        "# Best predictor\n",
        "w_best = candids[best_index]\n",
        "\n",
        "# (ACT13) Use w_best to predict labels for X_test\n",
        "y_test = predict(X_test, w_best)\n",
        "\n",
        "# (ACT14) print first 10 labels predicted for test set\n",
        "print(\"First 10 labels predicted for the test set:\")\n",
        "print(y_test[:10])\n",
        "\n",
        "#CHECKS\n",
        "def my_hash(y):\n",
        "    p1 = 28433\n",
        "    p2 = 577\n",
        "    ret = 0\n",
        "    for e in range(len(y)):\n",
        "        ret = ((ret*p2+int(e)) % p1 + p1) % p1\n",
        "    return ret\n",
        "assert(my_hash(y_test) == 19262)"
      ]
    },
    {
      "cell_type": "markdown",
      "metadata": {
        "id": "91bpx3wbwJbZ"
      },
      "source": [
        "## Frequency of words"
      ]
    },
    {
      "cell_type": "code",
      "execution_count": 85,
      "metadata": {
        "id": "VKu4KJoowJbZ",
        "colab": {
          "base_uri": "https://localhost:8080/",
          "height": 362
        },
        "outputId": "879c970d-802c-4248-c71b-ad020bc26a1e"
      },
      "outputs": [
        {
          "output_type": "display_data",
          "data": {
            "text/plain": [
              "<Figure size 1200x400 with 2 Axes>"
            ],
            "image/png": "[encoded data removed]"
          },
          "metadata": {}
        }
      ],
      "source": [
        "# (ACT15) using X_train and X_test\n",
        "# plot frequency (number of times it appeared) of each word using index of words as x-axis\n",
        "# using two subplots (bar plots) one for X_train and one for X_test\n",
        "# you might find plt.bar useful\n",
        "import matplotlib.pyplot as plt\n",
        "\n",
        "# Example data (replace with your actual X_train and X_test)\n",
        "X_train = docs_train_list\n",
        "X_test = docs_test_list\n",
        "\n",
        "# Flatten the lists to get a single list of words\n",
        "flat_X_train = [word for sublist in X_train for word in sublist]\n",
        "flat_X_test = [word for sublist in X_test for word in sublist]\n",
        "\n",
        "# Get unique words and their counts for X_train and X_test\n",
        "unique_words_train, counts_train = np.unique(flat_X_train, return_counts=True)\n",
        "unique_words_test, counts_test = np.unique(flat_X_test, return_counts=True)\n",
        "\n",
        "# Plotting\n",
        "fig, axs = plt.subplots(1, 2, figsize=(12, 4))  # 1 row, 2 columns for subplots\n",
        "\n",
        "# Plot for X_train\n",
        "axs[0].bar(unique_words_train, counts_train, color='black')\n",
        "axs[0].set_title('X_train Word Frequencies')\n",
        "axs[0].set_xlabel('Words')\n",
        "axs[0].set_ylabel('Frequency')\n",
        "axs[0].tick_params(axis='x', rotation=45)  # Rotate x-axis ticks for better readability\n",
        "axs[0].set_xticks(range(len(unique_words_train)))\n",
        "\n",
        "# Plot for X_test\n",
        "axs[1].bar(unique_words_test, counts_test, color='blue')\n",
        "axs[1].set_title('X_test Word Frequencies')\n",
        "axs[1].set_xlabel('Words')\n",
        "axs[1].set_ylabel('Frequency')\n",
        "axs[1].tick_params(axis='x', rotation=45)  # Rotate x-axis ticks for better readability\n",
        "axs[1].set_xticks(range(len(unique_words_test)))\n",
        "\n",
        "# Adjust layout for better appearance\n",
        "plt.tight_layout()\n",
        "\n",
        "# Show the plot\n",
        "plt.show()\n",
        "\n"
      ]
    }
  ],
  "metadata": {
    "kernelspec": {
      "display_name": "Python 3 (ipykernel)",
      "language": "python",
      "name": "python3"
    },
    "language_info": {
      "codemirror_mode": {
        "name": "ipython",
        "version": 3
      },
      "file_extension": ".py",
      "mimetype": "text/x-python",
      "name": "python",
      "nbconvert_exporter": "python",
      "pygments_lexer": "ipython3",
      "version": "3.9.6"
    },
    "pycharm": {
      "stem_cell": {
        "cell_type": "raw",
        "metadata": {
          "collapsed": false
        },
        "source": []
      }
    },
    "colab": {
      "provenance": []
    }
  },
  "nbformat": 4,
  "nbformat_minor": 0
}